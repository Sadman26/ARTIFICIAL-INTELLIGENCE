{
 "cells": [
  {
   "cell_type": "markdown",
   "metadata": {},
   "source": [
    "#Apply DFS Algorithm on g(With Atleast 7 nodes)"
   ]
  },
  {
   "cell_type": "code",
   "execution_count": 8,
   "metadata": {},
   "outputs": [
    {
     "name": "stdout",
     "output_type": "stream",
     "text": [
      "['1', '2', '5', '4', '3', '7', '6']\n"
     ]
    }
   ],
   "source": [
    "g={\n",
    "    '1': ['2','3','4'],\n",
    "    '2': ['1', '5'],\n",
    "    '3': ['1','4','7'],\n",
    "    '4': ['1','3','5','6'],\n",
    "    '5': ['2','4','6'],\n",
    "    '6': ['4','5','7'],\n",
    "    '7': ['3','6']\n",
    "}\n",
    "stack=[]\n",
    "def dfs(stack,g,node):\n",
    "    if node not in stack:\n",
    "        stack.append(node)\n",
    "        for friend in g[node]:\n",
    "            dfs(stack,g,friend)\n",
    "    return stack\n",
    "print(dfs(stack,g,'1'))"
   ]
  },
  {
   "cell_type": "markdown",
   "metadata": {},
   "source": [
    "Apply Single Layer Perceptron with AND Gate"
   ]
  },
  {
   "cell_type": "code",
   "execution_count": null,
   "metadata": {},
   "outputs": [],
   "source": []
  }
 ],
 "metadata": {
  "kernelspec": {
   "display_name": "Python 3.10.7 64-bit",
   "language": "python",
   "name": "python3"
  },
  "language_info": {
   "codemirror_mode": {
    "name": "ipython",
    "version": 3
   },
   "file_extension": ".py",
   "mimetype": "text/x-python",
   "name": "python",
   "nbconvert_exporter": "python",
   "pygments_lexer": "ipython3",
   "version": "3.10.7"
  },
  "orig_nbformat": 4,
  "vscode": {
   "interpreter": {
    "hash": "de66d7802e14fb2e8694b63e255d0fe3514f0a531cbbfb87d1ecc51a74f4db4d"
   }
  }
 },
 "nbformat": 4,
 "nbformat_minor": 2
}
