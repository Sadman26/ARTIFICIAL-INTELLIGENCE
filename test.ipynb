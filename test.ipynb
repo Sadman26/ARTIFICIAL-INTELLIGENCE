{
 "cells": [
  {
   "cell_type": "markdown",
   "metadata": {},
   "source": [
    "#Apply DFS Algorithm on Graph(With Atleast 7 nodes)"
   ]
  },
  {
   "cell_type": "code",
   "execution_count": 6,
   "metadata": {},
   "outputs": [
    {
     "name": "stdout",
     "output_type": "stream",
     "text": [
      "['1', '2', '5', '4', '3', '7', '6']\n"
     ]
    }
   ],
   "source": [
    "g={\n",
    "    '1': ['2','3','4'],'2': ['1', '5'],'3': ['1','4','7'],\n",
    "    '4': ['1','3','5','6'],\n",
    "    '5': ['2','4','6'],\n",
    "    '6': ['4','5','7'],\n",
    "    '7': ['3','6']\n",
    "}\n",
    "stk=[]\n",
    "def dfs(stk,g,node):\n",
    "    if node not in stk:\n",
    "        stk.append(node)\n",
    "        for friend in g[node]:\n",
    "            dfs(stk,g,friend)\n",
    "    return stk\n",
    "print(dfs(stk,g,'1'))"
   ]
  },
  {
   "cell_type": "markdown",
   "metadata": {},
   "source": [
    "#Apply Single Layer Preceptron with AND gate(find out the equation also and break the epoch when you get all zero)"
   ]
  },
  {
   "cell_type": "code",
   "execution_count": 5,
   "metadata": {},
   "outputs": [
    {
     "name": "stdout",
     "output_type": "stream",
     "text": [
      "Epoch:  0\n",
      "Calculated Value: 0 actual value 0\n",
      "Calculated Value: 0 actual value 0\n",
      "Calculated Value: 0 actual value 0\n",
      "Calculated Value: 0 actual value 1\n",
      ".............\n",
      "Epoch:  1\n",
      "Calculated Value: 0 actual value 0\n",
      "Calculated Value: 0 actual value 0\n",
      "Calculated Value: 0 actual value 0\n",
      "Calculated Value: 0 actual value 1\n",
      ".............\n",
      "Epoch:  2\n",
      "Calculated Value: 0 actual value 0\n",
      "Calculated Value: 0 actual value 0\n",
      "Calculated Value: 0 actual value 0\n",
      "Calculated Value: 0 actual value 1\n",
      ".............\n",
      "Epoch:  3\n",
      "Calculated Value: 0 actual value 0\n",
      "Calculated Value: 0 actual value 0\n",
      "Calculated Value: 0 actual value 0\n",
      "Calculated Value: 0 actual value 1\n",
      ".............\n",
      "Epoch:  4\n",
      "Calculated Value: 0 actual value 0\n",
      "Calculated Value: 0 actual value 0\n",
      "Calculated Value: 0 actual value 0\n",
      "Calculated Value: 1 actual value 0\n"
     ]
    }
   ],
   "source": [
    "import numpy as np\n",
    "Input = np.array(\n",
    "    [\n",
    "    [0, 0],\n",
    "    [0, 1],         #Input\n",
    "    [1, 0],\n",
    "    [1, 1]\n",
    "    ])\n",
    "Label = np.array(\n",
    "    [\n",
    "    0,\n",
    "    0,              #Output\n",
    "    0, \n",
    "    1]\n",
    "    )\n",
    "Weight = [1, 0.5]    #Weight\n",
    "Bias = 2.5           #Value of θ\n",
    "LearningRate = 0.1   #Learning Rate\n",
    "epoch = 9            #Epoch\n",
    "for j in range(0, epoch):\n",
    "    print(\"Epoch: \", j)\n",
    "    count = 0\n",
    "    for i in range(0, Input.shape[0]):\n",
    "        T = Label[i]\n",
    "        instance = Input[i]\n",
    "        x0 = instance[0]\n",
    "        x1 = instance[1]\n",
    "        net = (Weight[0]*x0)+(Weight[1]*x1)-Bias  #Equation\n",
    "        if net > 0:\n",
    "            y = 1\n",
    "        else:\n",
    "            y = 0\n",
    "        delta = T-y\n",
    "        if delta != 0:\n",
    "            Weight[0] = Weight[0]+(LearningRate*delta*x0)\n",
    "            Weight[1] = Weight[1]+(LearningRate*delta*x1)\n",
    "            Bias = Bias+(LearningRate*delta*(-1))\n",
    "        else:\n",
    "            count = count+1\n",
    "        print(\"Calculated Value:\", y, \"actual value\", delta)\n",
    "    if count == Input.shape[0]:\n",
    "        break\n",
    "    print(\".............\")\n",
    "\n",
    "\n"
   ]
  }
 ],
 "metadata": {
  "kernelspec": {
   "display_name": "Python 3.10.7 64-bit",
   "language": "python",
   "name": "python3"
  },
  "language_info": {
   "codemirror_mode": {
    "name": "ipython",
    "version": 3
   },
   "file_extension": ".py",
   "mimetype": "text/x-python",
   "name": "python",
   "nbconvert_exporter": "python",
   "pygments_lexer": "ipython3",
   "version": "3.10.7"
  },
  "orig_nbformat": 4,
  "vscode": {
   "interpreter": {
    "hash": "de66d7802e14fb2e8694b63e255d0fe3514f0a531cbbfb87d1ecc51a74f4db4d"
   }
  }
 },
 "nbformat": 4,
 "nbformat_minor": 2
}
