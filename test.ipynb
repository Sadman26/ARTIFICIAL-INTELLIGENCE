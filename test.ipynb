{
 "cells": [
  {
   "cell_type": "markdown",
   "metadata": {},
   "source": [
    "#Apply DFS Algorithm on Graph(With Atleast 7 nodes)"
   ]
  },
  {
   "cell_type": "code",
   "execution_count": 4,
   "metadata": {},
   "outputs": [
    {
     "name": "stdout",
     "output_type": "stream",
     "text": [
      "['1', '2', '5', '4', '3', '7', '6']\n"
     ]
    }
   ],
   "source": [
    "graph={\n",
    "    '1': ['2','3','4'],\n",
    "    '2': ['1', '5'],\n",
    "    '3': ['1','4','7'],\n",
    "    '4': ['1','3','5','6'],\n",
    "    '5': ['2','4','6'],\n",
    "    '6': ['4','5','7'],\n",
    "    '7': ['3','6']\n",
    "}\n",
    "visited=[]\n",
    "def dfs(visited,graph,node):\n",
    "    if node not in visited:\n",
    "        visited.append(node)\n",
    "        for friend in graph[node]:\n",
    "            dfs(visited,graph,friend)\n",
    "    return visited\n",
    "print(dfs(visited,graph,'1'))"
   ]
  }
 ],
 "metadata": {
  "kernelspec": {
   "display_name": "Python 3.10.7 64-bit",
   "language": "python",
   "name": "python3"
  },
  "language_info": {
   "codemirror_mode": {
    "name": "ipython",
    "version": 3
   },
   "file_extension": ".py",
   "mimetype": "text/x-python",
   "name": "python",
   "nbconvert_exporter": "python",
   "pygments_lexer": "ipython3",
   "version": "3.10.7"
  },
  "orig_nbformat": 4,
  "vscode": {
   "interpreter": {
    "hash": "de66d7802e14fb2e8694b63e255d0fe3514f0a531cbbfb87d1ecc51a74f4db4d"
   }
  }
 },
 "nbformat": 4,
 "nbformat_minor": 2
}
