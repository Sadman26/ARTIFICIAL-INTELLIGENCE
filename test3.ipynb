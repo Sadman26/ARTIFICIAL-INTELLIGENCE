{
 "cells": [
  {
   "cell_type": "markdown",
   "metadata": {},
   "source": [
    "#ANN Single layered perceptron"
   ]
  },
  {
   "cell_type": "code",
   "execution_count": 1,
   "metadata": {},
   "outputs": [
    {
     "name": "stdout",
     "output_type": "stream",
     "text": [
      "epoch 0\n",
      "Calculated Value: 0 actual value 0\n",
      "Calculated Value: 0 actual value 1\n",
      "Calculated Value: 1 actual value 0\n",
      "Calculated Value: 1 actual value 0\n",
      ".............\n",
      "epoch 1\n",
      "Calculated Value: 0 actual value 0\n",
      "Calculated Value: 1 actual value 0\n",
      "Calculated Value: 1 actual value 0\n",
      "Calculated Value: 1 actual value 0\n",
      ".............\n",
      "epoch 2\n",
      "Calculated Value: 0 actual value 0\n",
      "Calculated Value: 1 actual value 0\n",
      "Calculated Value: 1 actual value 0\n",
      "Calculated Value: 1 actual value 0\n",
      ".............\n",
      "epoch 3\n",
      "Calculated Value: 0 actual value 0\n",
      "Calculated Value: 1 actual value 0\n",
      "Calculated Value: 1 actual value 0\n",
      "Calculated Value: 1 actual value 0\n",
      ".............\n",
      "epoch 4\n",
      "Calculated Value: 0 actual value 0\n",
      "Calculated Value: 1 actual value 0\n",
      "Calculated Value: 1 actual value 0\n",
      "Calculated Value: 1 actual value 0\n",
      ".............\n"
     ]
    }
   ],
   "source": [
    "import numpy as np\n",
    "f=np.array(\n",
    "    [\n",
    "        [0,0],\n",
    "        [0,1],\n",
    "        [1,0],\n",
    "        [1,1]\n",
    "    ]\n",
    "    )\n",
    "    \n",
    "labels=np.array([0,1,1,1])\n",
    "\n",
    "w=[1,0.5]\n",
    "theta=0.5\n",
    "learning_rate=0.1\n",
    "epoch=5\n",
    "\n",
    "\n",
    "for j in range(0,epoch):\n",
    "    print(\"epoch\",j)\n",
    "    for i in range(0,f.shape[0]):\n",
    "        actual=labels[i]\n",
    "        instance=f[i]\n",
    "        \n",
    "        x0=instance[0]\n",
    "        x1=instance[1]\n",
    "        \n",
    "        net=w[0]*x0+w[1]*x1-theta\n",
    "        \n",
    "        if net>0:\n",
    "            y=1\n",
    "        else:\n",
    "            y=0\n",
    "            \n",
    "        delta=actual-y\n",
    "        \n",
    "        if(delta!=0):\n",
    "            w[0]=w[0]+learning_rate*delta*x0\n",
    "            w[1]=w[1]+learning_rate*delta*x1\n",
    "            theta=theta+(-1)*delta*learning_rate\n",
    "            \n",
    "        print(\"Calculated Value:\",y,\"actual value\",delta)\n",
    "   \n",
    "    print(\".............\")\n"
   ]
  }
 ],
 "metadata": {
  "kernelspec": {
   "display_name": "Python 3.10.7 64-bit",
   "language": "python",
   "name": "python3"
  },
  "language_info": {
   "codemirror_mode": {
    "name": "ipython",
    "version": 3
   },
   "file_extension": ".py",
   "mimetype": "text/x-python",
   "name": "python",
   "nbconvert_exporter": "python",
   "pygments_lexer": "ipython3",
   "version": "3.10.7"
  },
  "orig_nbformat": 4,
  "vscode": {
   "interpreter": {
    "hash": "de66d7802e14fb2e8694b63e255d0fe3514f0a531cbbfb87d1ecc51a74f4db4d"
   }
  }
 },
 "nbformat": 4,
 "nbformat_minor": 2
}
