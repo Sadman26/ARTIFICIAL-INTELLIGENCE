{
 "cells": [
  {
   "cell_type": "markdown",
   "metadata": {},
   "source": [
    "#First Code"
   ]
  },
  {
   "cell_type": "code",
   "execution_count": null,
   "metadata": {},
   "outputs": [],
   "source": [
    "x=input(\"STRING: \")\n",
    "alp=0\n",
    "dig=0\n",
    "spec=0\n",
    "for i in x:\n",
    "    if i.isalpha():\n",
    "        alp+=1\n",
    "    elif i.isdigit():\n",
    "        dig+=1\n",
    "    else:\n",
    "        spec+=1\n",
    "print(\"[ALPHABET]: \",alp)\n",
    "print(\"[DIGIT]: \",dig)\n",
    "print(\"[SPECIAL CHARACTER]: \",spec)\n"
   ]
  },
  {
   "cell_type": "markdown",
   "metadata": {},
   "source": [
    "#Second Code"
   ]
  },
  {
   "cell_type": "code",
   "execution_count": 12,
   "metadata": {},
   "outputs": [
    {
     "name": "stdout",
     "output_type": "stream",
     "text": [
      "SUM OF FIRST AND LAST DIGIT: 10\n"
     ]
    }
   ],
   "source": [
    "value=input(\"Enter Number: \")\n",
    "length=len(value)\n",
    "sum=int(value[0])+int(value[length-1])\n",
    "print(\"SUM OF FIRST AND LAST DIGIT: {}\".format(sum))"
   ]
  },
  {
   "cell_type": "markdown",
   "metadata": {},
   "source": [
    "#Third Code"
   ]
  },
  {
   "cell_type": "code",
   "execution_count": 4,
   "metadata": {},
   "outputs": [
    {
     "name": "stdout",
     "output_type": "stream",
     "text": [
      "[MAXIMUM 700]\n",
      "[MINIMUM 3]\n"
     ]
    }
   ],
   "source": [
    "def find_max_min(x):\n",
    "    if len(x)==1:\n",
    "        return x[0],x[0]\n",
    "    else:\n",
    "        max,min=find_max_min(x[1:])\n",
    "        if x[0]>max:\n",
    "            max=x[0]\n",
    "        if x[0]<min:\n",
    "            min=x[0]\n",
    "        return max,min\n",
    "x=[10,3,3,45,5,6,700,8,9,123]\n",
    "max,min=find_max_min(x)\n",
    "print(\"[MAXIMUM {}]\".format(max))\n",
    "print(\"[MINIMUM {}]\".format(min))"
   ]
  },
  {
   "cell_type": "markdown",
   "metadata": {},
   "source": [
    "#Forth Code"
   ]
  },
  {
   "cell_type": "code",
   "execution_count": 2,
   "metadata": {},
   "outputs": [
    {
     "name": "stdout",
     "output_type": "stream",
     "text": [
      "[PALINDROME]\n"
     ]
    }
   ],
   "source": [
    "def isPalRec(string, s, e) :\n",
    "    if (s == e):\n",
    "        return True\n",
    "    if (string[s] != string[e]) :\n",
    "        return False\n",
    "    if (s < e + 1) :\n",
    "        return isPalRec(string, s + 1, e - 1);\n",
    "    return True\n",
    "def isPalindrome(string) :\n",
    "    length = len(string)\n",
    "    if (length == 0) :\n",
    "        return True\n",
    "    return isPalRec(string, 0, length - 1);\n",
    "string =input(\"ENTER STRING: \")\n",
    "if (isPalindrome(string)) :\n",
    "    print (\"[PALINDROME]\")\n",
    "else :\n",
    "    print (\"[NOT PALINDROME]\")"
   ]
  },
  {
   "cell_type": "markdown",
   "metadata": {},
   "source": [
    "#Fifth Code"
   ]
  },
  {
   "cell_type": "code",
   "execution_count": 8,
   "metadata": {},
   "outputs": [
    {
     "name": "stdout",
     "output_type": "stream",
     "text": [
      "55\n"
     ]
    }
   ],
   "source": [
    "def sum_of_num(val):\n",
    "    if val==1:\n",
    "        return 1\n",
    "    else:\n",
    "        return val+sum_of_num(val-1)\n",
    "x=int(input(\"Enter Number: \"))\n",
    "print(sum_of_num(x))"
   ]
  },
  {
   "cell_type": "markdown",
   "metadata": {},
   "source": [
    "#Seventh Code"
   ]
  },
  {
   "cell_type": "code",
   "execution_count": 9,
   "metadata": {},
   "outputs": [
    {
     "name": "stdout",
     "output_type": "stream",
     "text": [
      "[1, 2, 3, 4, 5, 6, 7, 8, 9, 10, 123]\n"
     ]
    }
   ],
   "source": [
    "def quick_algo(x):\n",
    "    if len(x)<=1:\n",
    "        return x\n",
    "    else:\n",
    "        pivot=x[0]\n",
    "        less=[i for i in x[1:] if i<pivot]\n",
    "        greater=[i for i in x[1:] if i>=pivot]\n",
    "        return quick_algo(less)+[pivot]+quick_algo(greater)\n",
    "x=[10,2,1,3,4,5,6,7,8,9,123]\n",
    "print(quick_algo(x))"
   ]
  }
 ],
 "metadata": {
  "kernelspec": {
   "display_name": "Python 3.10.7 64-bit",
   "language": "python",
   "name": "python3"
  },
  "language_info": {
   "codemirror_mode": {
    "name": "ipython",
    "version": 3
   },
   "file_extension": ".py",
   "mimetype": "text/x-python",
   "name": "python",
   "nbconvert_exporter": "python",
   "pygments_lexer": "ipython3",
   "version": "3.10.7"
  },
  "orig_nbformat": 4,
  "vscode": {
   "interpreter": {
    "hash": "de66d7802e14fb2e8694b63e255d0fe3514f0a531cbbfb87d1ecc51a74f4db4d"
   }
  }
 },
 "nbformat": 4,
 "nbformat_minor": 2
}
