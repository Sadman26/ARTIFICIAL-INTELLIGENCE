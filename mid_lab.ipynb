{
 "cells": [
  {
   "cell_type": "markdown",
   "metadata": {},
   "source": [
    "#First Code"
   ]
  },
  {
   "cell_type": "code",
   "execution_count": 27,
   "metadata": {},
   "outputs": [
    {
     "name": "stdout",
     "output_type": "stream",
     "text": [
      "Hello***This @ is a, .;'python * & program\n",
      "Number of signs without *: 4\n"
     ]
    }
   ],
   "source": [
    "val = \"Hello!!!This @ is a, .;'python % & program\"\n",
    "counter=0\n",
    "length = len(val)\n",
    "my_val = list(val)\n",
    "for i in range (0,length):\n",
    "    if(my_val[i] == '!' or my_val[i] == '%'):\n",
    "        my_val[i] = '*'\n",
    "        counter=counter+1\n",
    "    elif(my_val[i] == '`'):\n",
    "        my_val[i] = '*'\n",
    "        counter=counter+1\n",
    "for i in range(0,length):\n",
    "    print(my_val[i],end=\"\")\n",
    "print()\n",
    "print(\"Number of signs without *:\",counter)"
   ]
  },
  {
   "cell_type": "markdown",
   "metadata": {},
   "source": [
    "#Second Code"
   ]
  },
  {
   "cell_type": "code",
   "execution_count": 3,
   "metadata": {},
   "outputs": [
    {
     "name": "stdout",
     "output_type": "stream",
     "text": [
      "X is the largest number\n"
     ]
    }
   ],
   "source": [
    "xx = int(input(\"Enter x: \"))\n",
    "yy = int(input(\"Enter y: \"))\n",
    "zz= int(input(\"Enter z: \"))\n",
    "if xx > yy and xx > zz:\n",
    "    print(\"X is the largest number\")\n",
    "elif yy > xx and yy > zz: \n",
    "    print(\"Y is the largest number\")\n",
    "else:\n",
    "    print(\"Z is the largest number\")\n"
   ]
  },
  {
   "cell_type": "markdown",
   "metadata": {},
   "source": [
    "#Third Code"
   ]
  },
  {
   "cell_type": "code",
   "execution_count": 26,
   "metadata": {},
   "outputs": [
    {
     "name": "stdout",
     "output_type": "stream",
     "text": [
      "C= [[8, 28, 12], [12, 14, 10], [20, 8, 22]]\n"
     ]
    }
   ],
   "source": [
    "A=[ [6,12,8], [4,4,10], [6,0,16] ]\n",
    "B=[ [2,16,4], [8,10,0], [14,8,6] ]\n",
    "C=[]\n",
    "for i in range(len(A)):\n",
    "    C.append([])\n",
    "    for j in range(len(A[0])):\n",
    "        C[i].append(A[i][j]+B[i][j])\n",
    "print(\"C=\",C)\n"
   ]
  },
  {
   "cell_type": "markdown",
   "metadata": {},
   "source": [
    "#Forth Code"
   ]
  },
  {
   "cell_type": "code",
   "execution_count": 19,
   "metadata": {},
   "outputs": [
    {
     "data": {
      "image/png": "[encoded data removed]",
      "text/plain": [
       "<Figure size 432x288 with 3 Axes>"
      ]
     },
     "metadata": {
      "needs_background": "light"
     },
     "output_type": "display_data"
    }
   ],
   "source": [
    "from matplotlib import pyplot as plt\n",
    "import numpy as np\n",
    "x1=np.array([0,1,2,3])\n",
    "y1=np.array([3,8,2,10])\n",
    "x2=np.array([0,1,2,3])\n",
    "y2=np.array([10,20,30,40])\n",
    "x3=np.array([1,2,3])\n",
    "x4=np.array([1,2,3])\n",
    "y3=np.array([4,1,3])\n",
    "y4=np.array([2,4,0])\n",
    "plt.subplot(2,3,1)\n",
    "plt.plot(x1,y1)\n",
    "plt.title('First_one')\n",
    "plt.subplot(2,3,2)\n",
    "plt.plot(x2,y2)\n",
    "plt.title('Second_one')\n",
    "plt.subplot(2,3,3)\n",
    "plt.plot(x3,y3,x4,y4)\n",
    "plt.title('Third_one')\n",
    "plt.show()\n",
    "\n"
   ]
  }
 ],
 "metadata": {
  "kernelspec": {
   "display_name": "Python 3.10.7 64-bit",
   "language": "python",
   "name": "python3"
  },
  "language_info": {
   "codemirror_mode": {
    "name": "ipython",
    "version": 3
   },
   "file_extension": ".py",
   "mimetype": "text/x-python",
   "name": "python",
   "nbconvert_exporter": "python",
   "pygments_lexer": "ipython3",
   "version": "3.10.7"
  },
  "orig_nbformat": 4,
  "vscode": {
   "interpreter": {
    "hash": "de66d7802e14fb2e8694b63e255d0fe3514f0a531cbbfb87d1ecc51a74f4db4d"
   }
  }
 },
 "nbformat": 4,
 "nbformat_minor": 2
}
