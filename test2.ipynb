{
 "cells": [
  {
   "cell_type": "markdown",
   "metadata": {},
   "source": [
    "Most Connected Node"
   ]
  },
  {
   "cell_type": "code",
   "execution_count": 4,
   "metadata": {},
   "outputs": [
    {
     "name": "stdout",
     "output_type": "stream",
     "text": [
      "C\n"
     ]
    }
   ],
   "source": [
    "graph={\n",
    "    'A':['B','C','G'],\n",
    "    'B':['A','C','D'],\n",
    "    'C':['A','B','D','E'],\n",
    "    'D':['B','C','F'],\n",
    "    'E':['C','F','G'],\n",
    "    'F':['D','E'],\n",
    "    'G':['A','E']\n",
    "}\n",
    "def find_most_connected_node(graph):\n",
    "    most_connected_node = ''\n",
    "    most_connected_node_count = 0\n",
    "    for node in graph:\n",
    "        if len(graph[node]) > most_connected_node_count:\n",
    "            most_connected_node = node\n",
    "            most_connected_node_count = len(graph[node])\n",
    "    return most_connected_node\n",
    "print(find_most_connected_node(graph))"
   ]
  },
  {
   "cell_type": "markdown",
   "metadata": {},
   "source": [
    "Something"
   ]
  },
  {
   "cell_type": "code",
   "execution_count": 11,
   "metadata": {},
   "outputs": [
    {
     "name": "stdout",
     "output_type": "stream",
     "text": [
      "['B', 'C', 'G', 'D', 'E']\n"
     ]
    }
   ],
   "source": [
    "graph={\n",
    "    'A':['B','C','G'],\n",
    "    'B':['A','C','D'],\n",
    "    'C':['A','B','D','E'],\n",
    "    'D':['B','C','F'],\n",
    "    'E':['C','F','G'],\n",
    "    'F':['D','E'],\n",
    "    'G':['A','E']\n",
    "}\n",
    "def f(graph,node):\n",
    "    invite=graph[node]+[]\n",
    "    for friend in graph[node]:\n",
    "        for their_friend in graph[friend]:\n",
    "            if their_friend not in invite and their_friend!=node:\n",
    "                invite.append(their_friend)\n",
    "    return invite\n",
    "print(f(graph,'A'))"
   ]
  }
 ],
 "metadata": {
  "kernelspec": {
   "display_name": "Python 3.10.7 64-bit",
   "language": "python",
   "name": "python3"
  },
  "language_info": {
   "codemirror_mode": {
    "name": "ipython",
    "version": 3
   },
   "file_extension": ".py",
   "mimetype": "text/x-python",
   "name": "python",
   "nbconvert_exporter": "python",
   "pygments_lexer": "ipython3",
   "version": "3.10.7"
  },
  "orig_nbformat": 4,
  "vscode": {
   "interpreter": {
    "hash": "de66d7802e14fb2e8694b63e255d0fe3514f0a531cbbfb87d1ecc51a74f4db4d"
   }
  }
 },
 "nbformat": 4,
 "nbformat_minor": 2
}
